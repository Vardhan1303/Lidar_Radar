{
 "cells": [
  {
   "cell_type": "markdown",
   "metadata": {},
   "source": [
    "### **KITTI Dataset Scene Visualization and Evaluation**"
   ]
  },
  {
   "cell_type": "markdown",
   "metadata": {},
   "source": [
    "#### **1. Import Required Libraries**"
   ]
  },
  {
   "cell_type": "code",
   "execution_count": 13,
   "metadata": {},
   "outputs": [],
   "source": [
    "import os\n",
    "import numpy as np\n",
    "import cv2\n",
    "import matplotlib.pyplot as plt\n",
    "from shapely.geometry import box\n",
    "from shapely.affinity import rotate\n",
    "%matplotlib inline\n",
    "%config InlineBackend.figure_format = 'retina'"
   ]
  },
  {
   "cell_type": "markdown",
   "metadata": {},
   "source": [
    "#### **2. Define Scene IDs**"
   ]
  },
  {
   "cell_type": "code",
   "execution_count": 14,
   "metadata": {},
   "outputs": [],
   "source": [
    "scene_ids = ['006067', '006059', '006310', '006227', '006121', '006315', '006211',\n",
    "    '006042', '006130', '006374', '006037', '006097', '006048', '006206',\n",
    "    '006253', '006098', '006291', '006312', '006329', '006054']"
   ]
  },
  {
   "cell_type": "markdown",
   "metadata": {},
   "source": [
    "#### **3. Define Helper Functions**"
   ]
  },
  {
   "cell_type": "markdown",
   "metadata": {},
   "source": [
    "**3.1 Rotate Bounding Box**"
   ]
  },
  {
   "cell_type": "code",
   "execution_count": 15,
   "metadata": {},
   "outputs": [],
   "source": [
    "def rotate_bbox_shapely(bbox, angle, origin):\n",
    "    return rotate(bbox, angle, origin=origin, use_radians=False)"
   ]
  },
  {
   "cell_type": "markdown",
   "metadata": {},
   "source": [
    "**3.2 Calculate IoU (Intersection over Union)**"
   ]
  },
  {
   "cell_type": "code",
   "execution_count": 16,
   "metadata": {},
   "outputs": [],
   "source": [
    "def calculate_iou(box1, box2):\n",
    "    intersection = box1.intersection(box2).area\n",
    "    union = box1.union(box2).area\n",
    "    return intersection / union"
   ]
  },
  {
   "cell_type": "markdown",
   "metadata": {},
   "source": [
    "**3.3 Plot Bounding Boxes**"
   ]
  },
  {
   "cell_type": "code",
   "execution_count": 17,
   "metadata": {},
   "outputs": [],
   "source": [
    "def plot_bbox(ax, bbox, color, alpha, linewidth, text=None, text_color='white', text_weight='bold'):\n",
    "    ax.plot(*bbox.exterior.xy, color=color, linewidth=linewidth, alpha=alpha)\n",
    "    if text:\n",
    "        x, y = bbox.exterior.xy\n",
    "        ax.text(x[0]-20, y[0], text, color=text_color, fontsize=10, ha='center', va='bottom', alpha=alpha, weight=text_weight)"
   ]
  },
  {
   "cell_type": "markdown",
   "metadata": {},
   "source": [
    "**3.4 Save Processed Scene**"
   ]
  },
  {
   "cell_type": "code",
   "execution_count": 18,
   "metadata": {},
   "outputs": [],
   "source": [
    "def save_processed_scene(scene_id, fig, output_folder):\n",
    "    if not os.path.exists(output_folder):\n",
    "        os.makedirs(output_folder)\n",
    "    output_path = os.path.join(output_folder, f\"scene_{scene_id}_output.png\")\n",
    "    fig.savefig(output_path, bbox_inches='tight', pad_inches=0.1)\n",
    "    plt.close(fig)"
   ]
  },
  {
   "cell_type": "markdown",
   "metadata": {},
   "source": [
    "#### **4. Process Each Scene**"
   ]
  },
  {
   "cell_type": "code",
   "execution_count": 22,
   "metadata": {},
   "outputs": [],
   "source": [
    "def process_scene(scene_id, gt_labels, pred_labels):\n",
    "    bev = cv2.imread(f\"./KITTI_Selection/bev/{scene_id}.png\")\n",
    "    fig, ax = plt.subplots(figsize=(12, 12))\n",
    "    \n",
    "    # Display scene name\n",
    "    ax.set_title(f'Scene {scene_id}', fontsize=14, fontweight='bold', color='#0067A5')\n",
    "    ax.imshow(bev[:, :, [2, 1, 0]])\n",
    "\n",
    "    true_positives, false_positives, false_negatives = 0, 0, 0\n",
    "    gt_boxes = [box(label[1] - label[3] / 2, label[2] - label[4] / 2, label[1] + label[3] / 2, label[2] + label[4] / 2) for label in gt_labels]\n",
    "    rotated_gt_boxes = [rotate_bbox_shapely(gt_bbox, np.degrees(np.arctan2(label[5], label[6])), (label[1], label[2])) for gt_bbox, label in zip(gt_boxes, gt_labels)]\n",
    "    \n",
    "    for gt_bbox, rotated_gt_bbox in zip(gt_boxes, rotated_gt_boxes):\n",
    "        max_iou = 0\n",
    "        for pred_label in pred_labels:\n",
    "            pred_x, pred_y, pred_w, pred_l, pred_im, pred_re, _, _, _ = pred_label\n",
    "            pred_bbox = box(pred_x - pred_w / 2, pred_y - pred_l / 2, pred_x + pred_w / 2, pred_y + pred_l / 2)\n",
    "            rotated_pred_bbox = rotate_bbox_shapely(pred_bbox, np.degrees(np.arctan2(pred_im, pred_re)), (pred_x, pred_y))\n",
    "            iou = calculate_iou(rotated_gt_bbox, rotated_pred_bbox)\n",
    "            plot_bbox(ax, rotated_pred_bbox, linewidth=1.0, color='red', alpha=0.4)\n",
    "            if max_iou < iou:\n",
    "                max_iou = iou\n",
    "        plot_bbox(ax, rotated_gt_bbox, color='Green', text=f\"{max_iou:.2f}\", linewidth=2.0, alpha=0.99)\n",
    "        if max_iou > 0.5:\n",
    "            true_positives += 1\n",
    "        else:\n",
    "            false_negatives += 1\n",
    "\n",
    "    false_positives = len(pred_labels) - true_positives\n",
    "    precision = true_positives / (true_positives + false_positives) if (true_positives + false_positives) > 0 else 0\n",
    "    recall = true_positives / (true_positives + false_negatives) if (true_positives + false_negatives) > 0 else 0\n",
    "    \n",
    "    ax.text(0.5, -0.1, f'Precision: {precision:.3f}, Recall: {recall:.3f}', transform=ax.transAxes, ha='center', va='center', color='#0067A5', fontsize=12, fontweight='bold')\n",
    "    \n",
    "    plt.legend(handles=[plt.Line2D([0], [0], color='green', lw=2, label='Ground Truth'),\n",
    "                         plt.Line2D([0], [0], color='red', lw=2, label='Prediction')])\n",
    "    \n",
    "    save_processed_scene(scene_id, fig, output_folder)\n",
    "    plt.show()"
   ]
  },
  {
   "cell_type": "markdown",
   "metadata": {},
   "source": [
    "#### **5. Run Scene Processing**"
   ]
  },
  {
   "cell_type": "code",
   "execution_count": 23,
   "metadata": {},
   "outputs": [],
   "source": [
    "output_folder = f\"./Output\"\n",
    "\n",
    "for scene_id in scene_ids:\n",
    "    gt_labels = np.loadtxt(f\"./KITTI_Selection/labels/{scene_id}.csv\", delimiter=\",\", ndmin=2)\n",
    "    pred_file_path = f\"./KITTI_Selection/predictions/{scene_id}.csv\"\n",
    "    pred_labels = np.loadtxt(pred_file_path, delimiter=\",\") if os.path.exists(pred_file_path) and os.path.getsize(pred_file_path) > 0 else []\n",
    "    process_scene(scene_id, gt_labels, pred_labels)"
   ]
  },
  {
   "cell_type": "markdown",
   "metadata": {},
   "source": [
    "#### **6. Display Final Results**"
   ]
  },
  {
   "cell_type": "code",
   "execution_count": 24,
   "metadata": {},
   "outputs": [],
   "source": [
    "plt.show()"
   ]
  }
 ],
 "metadata": {
  "kernelspec": {
   "display_name": "Python 3",
   "language": "python",
   "name": "python3"
  },
  "language_info": {
   "codemirror_mode": {
    "name": "ipython",
    "version": 3
   },
   "file_extension": ".py",
   "mimetype": "text/x-python",
   "name": "python",
   "nbconvert_exporter": "python",
   "pygments_lexer": "ipython3",
   "version": "3.12.0"
  }
 },
 "nbformat": 4,
 "nbformat_minor": 2
}
